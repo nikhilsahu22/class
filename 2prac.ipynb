{
 "cells": [
  {
   "cell_type": "code",
   "execution_count": 1,
   "id": "39e06f13",
   "metadata": {},
   "outputs": [
    {
     "data": {
      "text/html": [
       "<div>\n",
       "<style scoped>\n",
       "    .dataframe tbody tr th:only-of-type {\n",
       "        vertical-align: middle;\n",
       "    }\n",
       "\n",
       "    .dataframe tbody tr th {\n",
       "        vertical-align: top;\n",
       "    }\n",
       "\n",
       "    .dataframe thead th {\n",
       "        text-align: right;\n",
       "    }\n",
       "</style>\n",
       "<table border=\"1\" class=\"dataframe\">\n",
       "  <thead>\n",
       "    <tr style=\"text-align: right;\">\n",
       "      <th></th>\n",
       "      <th>x1</th>\n",
       "      <th>y1</th>\n",
       "      <th>z1</th>\n",
       "    </tr>\n",
       "  </thead>\n",
       "  <tbody>\n",
       "    <tr>\n",
       "      <th>0</th>\n",
       "      <td>-83.0</td>\n",
       "      <td>72.0</td>\n",
       "      <td>-40.0</td>\n",
       "    </tr>\n",
       "    <tr>\n",
       "      <th>1</th>\n",
       "      <td>90.0</td>\n",
       "      <td>-46.0</td>\n",
       "      <td>-33.0</td>\n",
       "    </tr>\n",
       "    <tr>\n",
       "      <th>2</th>\n",
       "      <td>88.0</td>\n",
       "      <td>33.0</td>\n",
       "      <td>-99.0</td>\n",
       "    </tr>\n",
       "    <tr>\n",
       "      <th>3</th>\n",
       "      <td>15.0</td>\n",
       "      <td>52.0</td>\n",
       "      <td>-13.0</td>\n",
       "    </tr>\n",
       "    <tr>\n",
       "      <th>4</th>\n",
       "      <td>-46.0</td>\n",
       "      <td>-76.0</td>\n",
       "      <td>1.0</td>\n",
       "    </tr>\n",
       "    <tr>\n",
       "      <th>...</th>\n",
       "      <td>...</td>\n",
       "      <td>...</td>\n",
       "      <td>...</td>\n",
       "    </tr>\n",
       "    <tr>\n",
       "      <th>995</th>\n",
       "      <td>-73.0</td>\n",
       "      <td>37.0</td>\n",
       "      <td>-35.0</td>\n",
       "    </tr>\n",
       "    <tr>\n",
       "      <th>996</th>\n",
       "      <td>-16.0</td>\n",
       "      <td>-35.0</td>\n",
       "      <td>-119.0</td>\n",
       "    </tr>\n",
       "    <tr>\n",
       "      <th>997</th>\n",
       "      <td>-6.0</td>\n",
       "      <td>-39.0</td>\n",
       "      <td>75.0</td>\n",
       "    </tr>\n",
       "    <tr>\n",
       "      <th>998</th>\n",
       "      <td>97.0</td>\n",
       "      <td>38.0</td>\n",
       "      <td>-98.0</td>\n",
       "    </tr>\n",
       "    <tr>\n",
       "      <th>999</th>\n",
       "      <td>-54.0</td>\n",
       "      <td>7.0</td>\n",
       "      <td>-45.0</td>\n",
       "    </tr>\n",
       "  </tbody>\n",
       "</table>\n",
       "<p>1000 rows × 3 columns</p>\n",
       "</div>"
      ],
      "text/plain": [
       "       x1    y1     z1\n",
       "0   -83.0  72.0  -40.0\n",
       "1    90.0 -46.0  -33.0\n",
       "2    88.0  33.0  -99.0\n",
       "3    15.0  52.0  -13.0\n",
       "4   -46.0 -76.0    1.0\n",
       "..    ...   ...    ...\n",
       "995 -73.0  37.0  -35.0\n",
       "996 -16.0 -35.0 -119.0\n",
       "997  -6.0 -39.0   75.0\n",
       "998  97.0  38.0  -98.0\n",
       "999 -54.0   7.0  -45.0\n",
       "\n",
       "[1000 rows x 3 columns]"
      ]
     },
     "execution_count": 1,
     "metadata": {},
     "output_type": "execute_result"
    }
   ],
   "source": [
    "import pandas as pd\n",
    "import numpy as np\n",
    "\n",
    "data = pd.DataFrame({\n",
    "    'x1': np.random.randint(-100, 100, 1000).astype(float),\n",
    "    'y1': np.random.randint(-80, 80, 1000).astype(float),\n",
    "    'z1': np.random.randint(-150, 150, 1000).astype(float),\n",
    "})\n",
    "data"
   ]
  },
  {
   "cell_type": "markdown",
   "id": "a6fdf08a-6fdb-417b-b692-990cf47e6cc1",
   "metadata": {},
   "source": [
    "### Standardization"
   ]
  },
  {
   "cell_type": "code",
   "execution_count": 3,
   "id": "146cad40-a012-44dc-8d1c-8834ff390679",
   "metadata": {},
   "outputs": [
    {
     "name": "stdout",
     "output_type": "stream",
     "text": [
      "StandardScaler mean is :  1.1842378929335004e-17  \n",
      "StandardScaler standard devaition is :  1.0\n"
     ]
    }
   ],
   "source": [
    "from sklearn.preprocessing import StandardScaler,normalize,MinMaxScaler\n",
    "\n",
    "Scaler=StandardScaler()\n",
    "Scaled_data=Scaler.fit_transform(data.iloc[:,:3])\n",
    "mean=Scaled_data.mean()\n",
    "stdvar=Scaled_data.std()\n",
    "print(\"StandardScaler mean is : \",mean,\" \\nStandardScaler standard devaition is : \",stdvar) "
   ]
  },
  {
   "cell_type": "markdown",
   "id": "47a1779e-46e6-4880-b4a4-e9d03178647c",
   "metadata": {},
   "source": [
    "### Normalisation"
   ]
  },
  {
   "cell_type": "code",
   "execution_count": 5,
   "id": "695ff318-6691-4119-89bb-00d7e5c01d6e",
   "metadata": {},
   "outputs": [
    {
     "name": "stdout",
     "output_type": "stream",
     "text": [
      "normalised_data mean is :  0.4912775190396356  \n",
      "normalised_data standard devaition is :  0.28962164810541263\n"
     ]
    }
   ],
   "source": [
    "min_max_scaler=MinMaxScaler()\n",
    "normalised_data=min_max_scaler.fit_transform(data.iloc[:,:3])\n",
    "mean=normalised_data.mean()\n",
    "stdvar=normalised_data.std()\n",
    "print(\"normalised_data mean is : \",mean,\" \\nnormalised_data standard devaition is : \",stdvar) "
   ]
  },
  {
   "cell_type": "code",
   "execution_count": 6,
   "id": "c25d0960-8cd7-45ca-bce2-091f7ad66ce3",
   "metadata": {},
   "outputs": [
    {
     "data": {
      "text/html": [
       "<div>\n",
       "<style scoped>\n",
       "    .dataframe tbody tr th:only-of-type {\n",
       "        vertical-align: middle;\n",
       "    }\n",
       "\n",
       "    .dataframe tbody tr th {\n",
       "        vertical-align: top;\n",
       "    }\n",
       "\n",
       "    .dataframe thead th {\n",
       "        text-align: right;\n",
       "    }\n",
       "</style>\n",
       "<table border=\"1\" class=\"dataframe\">\n",
       "  <thead>\n",
       "    <tr style=\"text-align: right;\">\n",
       "      <th></th>\n",
       "      <th>x1</th>\n",
       "      <th>y1</th>\n",
       "      <th>z1</th>\n",
       "    </tr>\n",
       "  </thead>\n",
       "  <tbody>\n",
       "    <tr>\n",
       "      <th>0</th>\n",
       "      <td>-83.0</td>\n",
       "      <td>72.0</td>\n",
       "      <td>-40.0</td>\n",
       "    </tr>\n",
       "    <tr>\n",
       "      <th>1</th>\n",
       "      <td>90.0</td>\n",
       "      <td>-46.0</td>\n",
       "      <td>-33.0</td>\n",
       "    </tr>\n",
       "    <tr>\n",
       "      <th>2</th>\n",
       "      <td>88.0</td>\n",
       "      <td>33.0</td>\n",
       "      <td>-99.0</td>\n",
       "    </tr>\n",
       "    <tr>\n",
       "      <th>3</th>\n",
       "      <td>15.0</td>\n",
       "      <td>52.0</td>\n",
       "      <td>-13.0</td>\n",
       "    </tr>\n",
       "    <tr>\n",
       "      <th>4</th>\n",
       "      <td>-46.0</td>\n",
       "      <td>-76.0</td>\n",
       "      <td>1.0</td>\n",
       "    </tr>\n",
       "    <tr>\n",
       "      <th>...</th>\n",
       "      <td>...</td>\n",
       "      <td>...</td>\n",
       "      <td>...</td>\n",
       "    </tr>\n",
       "    <tr>\n",
       "      <th>995</th>\n",
       "      <td>-73.0</td>\n",
       "      <td>37.0</td>\n",
       "      <td>-35.0</td>\n",
       "    </tr>\n",
       "    <tr>\n",
       "      <th>996</th>\n",
       "      <td>-16.0</td>\n",
       "      <td>-35.0</td>\n",
       "      <td>-119.0</td>\n",
       "    </tr>\n",
       "    <tr>\n",
       "      <th>997</th>\n",
       "      <td>-6.0</td>\n",
       "      <td>-39.0</td>\n",
       "      <td>75.0</td>\n",
       "    </tr>\n",
       "    <tr>\n",
       "      <th>998</th>\n",
       "      <td>97.0</td>\n",
       "      <td>38.0</td>\n",
       "      <td>-98.0</td>\n",
       "    </tr>\n",
       "    <tr>\n",
       "      <th>999</th>\n",
       "      <td>-54.0</td>\n",
       "      <td>7.0</td>\n",
       "      <td>-45.0</td>\n",
       "    </tr>\n",
       "  </tbody>\n",
       "</table>\n",
       "<p>1000 rows × 3 columns</p>\n",
       "</div>"
      ],
      "text/plain": [
       "       x1    y1     z1\n",
       "0   -83.0  72.0  -40.0\n",
       "1    90.0 -46.0  -33.0\n",
       "2    88.0  33.0  -99.0\n",
       "3    15.0  52.0  -13.0\n",
       "4   -46.0 -76.0    1.0\n",
       "..    ...   ...    ...\n",
       "995 -73.0  37.0  -35.0\n",
       "996 -16.0 -35.0 -119.0\n",
       "997  -6.0 -39.0   75.0\n",
       "998  97.0  38.0  -98.0\n",
       "999 -54.0   7.0  -45.0\n",
       "\n",
       "[1000 rows x 3 columns]"
      ]
     },
     "execution_count": 6,
     "metadata": {},
     "output_type": "execute_result"
    }
   ],
   "source": [
    "data"
   ]
  },
  {
   "cell_type": "markdown",
   "id": "e4d723a4-3013-4d29-ae19-93a74af692d1",
   "metadata": {
    "jp-MarkdownHeadingCollapsed": true
   },
   "source": [
    "### aggregation"
   ]
  },
  {
   "cell_type": "code",
   "execution_count": 8,
   "id": "22494e87-8ce6-4349-8094-1efc82f74619",
   "metadata": {},
   "outputs": [
    {
     "data": {
      "text/html": [
       "<div>\n",
       "<style scoped>\n",
       "    .dataframe tbody tr th:only-of-type {\n",
       "        vertical-align: middle;\n",
       "    }\n",
       "\n",
       "    .dataframe tbody tr th {\n",
       "        vertical-align: top;\n",
       "    }\n",
       "\n",
       "    .dataframe thead th {\n",
       "        text-align: right;\n",
       "    }\n",
       "</style>\n",
       "<table border=\"1\" class=\"dataframe\">\n",
       "  <thead>\n",
       "    <tr style=\"text-align: right;\">\n",
       "      <th></th>\n",
       "      <th>x1</th>\n",
       "      <th>y1</th>\n",
       "    </tr>\n",
       "  </thead>\n",
       "  <tbody>\n",
       "    <tr>\n",
       "      <th>sum</th>\n",
       "      <td>-3083.0</td>\n",
       "      <td>NaN</td>\n",
       "    </tr>\n",
       "    <tr>\n",
       "      <th>min</th>\n",
       "      <td>-100.0</td>\n",
       "      <td>-80.0</td>\n",
       "    </tr>\n",
       "    <tr>\n",
       "      <th>max</th>\n",
       "      <td>NaN</td>\n",
       "      <td>79.0</td>\n",
       "    </tr>\n",
       "  </tbody>\n",
       "</table>\n",
       "</div>"
      ],
      "text/plain": [
       "         x1    y1\n",
       "sum -3083.0   NaN\n",
       "min  -100.0 -80.0\n",
       "max     NaN  79.0"
      ]
     },
     "execution_count": 8,
     "metadata": {},
     "output_type": "execute_result"
    }
   ],
   "source": [
    "data.agg({'x1':['sum','min'],'y1':['min','max']})"
   ]
  },
  {
   "cell_type": "code",
   "execution_count": 9,
   "id": "59fa308c-b108-4d77-bb1e-ba3bb18d8a47",
   "metadata": {},
   "outputs": [
    {
     "data": {
      "text/html": [
       "<div>\n",
       "<style scoped>\n",
       "    .dataframe tbody tr th:only-of-type {\n",
       "        vertical-align: middle;\n",
       "    }\n",
       "\n",
       "    .dataframe tbody tr th {\n",
       "        vertical-align: top;\n",
       "    }\n",
       "\n",
       "    .dataframe thead th {\n",
       "        text-align: right;\n",
       "    }\n",
       "</style>\n",
       "<table border=\"1\" class=\"dataframe\">\n",
       "  <thead>\n",
       "    <tr style=\"text-align: right;\">\n",
       "      <th></th>\n",
       "      <th>x1</th>\n",
       "      <th>y1</th>\n",
       "      <th>z1</th>\n",
       "    </tr>\n",
       "  </thead>\n",
       "  <tbody>\n",
       "    <tr>\n",
       "      <th>sum</th>\n",
       "      <td>-3083.0</td>\n",
       "      <td>-1286.0</td>\n",
       "      <td>-2965.0</td>\n",
       "    </tr>\n",
       "    <tr>\n",
       "      <th>min</th>\n",
       "      <td>-100.0</td>\n",
       "      <td>-80.0</td>\n",
       "      <td>-150.0</td>\n",
       "    </tr>\n",
       "  </tbody>\n",
       "</table>\n",
       "</div>"
      ],
      "text/plain": [
       "         x1      y1      z1\n",
       "sum -3083.0 -1286.0 -2965.0\n",
       "min  -100.0   -80.0  -150.0"
      ]
     },
     "execution_count": 9,
     "metadata": {},
     "output_type": "execute_result"
    }
   ],
   "source": [
    "data.agg(['sum','min'])"
   ]
  },
  {
   "cell_type": "code",
   "execution_count": 10,
   "id": "e051fcbd-45c1-48ed-bade-036befa9d5e8",
   "metadata": {},
   "outputs": [
    {
     "data": {
      "text/html": [
       "<div>\n",
       "<style scoped>\n",
       "    .dataframe tbody tr th:only-of-type {\n",
       "        vertical-align: middle;\n",
       "    }\n",
       "\n",
       "    .dataframe tbody tr th {\n",
       "        vertical-align: top;\n",
       "    }\n",
       "\n",
       "    .dataframe thead th {\n",
       "        text-align: right;\n",
       "    }\n",
       "</style>\n",
       "<table border=\"1\" class=\"dataframe\">\n",
       "  <thead>\n",
       "    <tr style=\"text-align: right;\">\n",
       "      <th></th>\n",
       "      <th>x1</th>\n",
       "      <th>y1</th>\n",
       "      <th>z1</th>\n",
       "    </tr>\n",
       "  </thead>\n",
       "  <tbody>\n",
       "    <tr>\n",
       "      <th>sum</th>\n",
       "      <td>-3083.0</td>\n",
       "      <td>-1286.0</td>\n",
       "      <td>-2965.0</td>\n",
       "    </tr>\n",
       "    <tr>\n",
       "      <th>min</th>\n",
       "      <td>-100.0</td>\n",
       "      <td>-80.0</td>\n",
       "      <td>-150.0</td>\n",
       "    </tr>\n",
       "  </tbody>\n",
       "</table>\n",
       "</div>"
      ],
      "text/plain": [
       "         x1      y1      z1\n",
       "sum -3083.0 -1286.0 -2965.0\n",
       "min  -100.0   -80.0  -150.0"
      ]
     },
     "execution_count": 10,
     "metadata": {},
     "output_type": "execute_result"
    }
   ],
   "source": [
    "data.agg(['sum','min'],axis=0)"
   ]
  },
  {
   "cell_type": "markdown",
   "id": "0d92e6f7-1d3e-44a4-814f-12fed5b1a7cb",
   "metadata": {
    "jp-MarkdownHeadingCollapsed": true
   },
   "source": [
    "### Discreatization"
   ]
  },
  {
   "cell_type": "code",
   "execution_count": 12,
   "id": "855ff25f-af4e-4b32-9161-ad091d6ea8c4",
   "metadata": {},
   "outputs": [
    {
     "data": {
      "text/plain": [
       "0         (-90.2, -30.4]\n",
       "1         (-90.2, -30.4]\n",
       "2      (-150.299, -90.2]\n",
       "3          (-30.4, 29.4]\n",
       "4          (-30.4, 29.4]\n",
       "             ...        \n",
       "995       (-90.2, -30.4]\n",
       "996    (-150.299, -90.2]\n",
       "997         (29.4, 89.2]\n",
       "998    (-150.299, -90.2]\n",
       "999       (-90.2, -30.4]\n",
       "Name: z1, Length: 1000, dtype: category\n",
       "Categories (5, interval[float64, right]): [(-150.299, -90.2] < (-90.2, -30.4] < (-30.4, 29.4] < (29.4, 89.2] < (89.2, 149.0]]"
      ]
     },
     "execution_count": 12,
     "metadata": {},
     "output_type": "execute_result"
    }
   ],
   "source": [
    "pd.cut(data['z1'],bins=5)"
   ]
  },
  {
   "cell_type": "code",
   "execution_count": 15,
   "id": "bb3b9615-eacb-4ea5-84bf-bfbe15b90eef",
   "metadata": {},
   "outputs": [
    {
     "data": {
      "text/plain": [
       "0      5th\n",
       "1      2nd\n",
       "2      4th\n",
       "3      5th\n",
       "4      1st\n",
       "      ... \n",
       "995    4th\n",
       "996    2nd\n",
       "997    2nd\n",
       "998    4th\n",
       "999    3rd\n",
       "Name: y1, Length: 1000, dtype: category\n",
       "Categories (5, object): ['1st' < '2nd' < '3rd' < '4th' < '5th']"
      ]
     },
     "execution_count": 15,
     "metadata": {},
     "output_type": "execute_result"
    }
   ],
   "source": [
    "bin = [0, 0.2, 0.4 , 0.6 , 0.8 , 1 ]\n",
    "pd.qcut(data['y1'],bin,labels=['1st','2nd', '3rd', '4th', '5th'])"
   ]
  },
  {
   "cell_type": "markdown",
   "id": "a0c75a94",
   "metadata": {},
   "source": [
    "### Binarization"
   ]
  },
  {
   "cell_type": "code",
   "execution_count": 17,
   "id": "a8e0233c",
   "metadata": {},
   "outputs": [
    {
     "data": {
      "text/html": [
       "<div>\n",
       "<style scoped>\n",
       "    .dataframe tbody tr th:only-of-type {\n",
       "        vertical-align: middle;\n",
       "    }\n",
       "\n",
       "    .dataframe tbody tr th {\n",
       "        vertical-align: top;\n",
       "    }\n",
       "\n",
       "    .dataframe thead th {\n",
       "        text-align: right;\n",
       "    }\n",
       "</style>\n",
       "<table border=\"1\" class=\"dataframe\">\n",
       "  <thead>\n",
       "    <tr style=\"text-align: right;\">\n",
       "      <th></th>\n",
       "      <th>x1</th>\n",
       "      <th>x2</th>\n",
       "      <th>x3</th>\n",
       "    </tr>\n",
       "  </thead>\n",
       "  <tbody>\n",
       "    <tr>\n",
       "      <th>0</th>\n",
       "      <td>1</td>\n",
       "      <td>0</td>\n",
       "      <td>1</td>\n",
       "    </tr>\n",
       "    <tr>\n",
       "      <th>1</th>\n",
       "      <td>1</td>\n",
       "      <td>0</td>\n",
       "      <td>1</td>\n",
       "    </tr>\n",
       "    <tr>\n",
       "      <th>2</th>\n",
       "      <td>1</td>\n",
       "      <td>0</td>\n",
       "      <td>0</td>\n",
       "    </tr>\n",
       "  </tbody>\n",
       "</table>\n",
       "</div>"
      ],
      "text/plain": [
       "   x1  x2  x3\n",
       "0   1   0   1\n",
       "1   1   0   1\n",
       "2   1   0   0"
      ]
     },
     "execution_count": 17,
     "metadata": {},
     "output_type": "execute_result"
    }
   ],
   "source": [
    "data1 = [[2, -2, 1],\n",
    "        [5, -5, 3],\n",
    "        [1, 0, -1]]\n",
    "\n",
    "df6 = pd.DataFrame(data1, columns = ['x1', 'x2', 'x3'])\n",
    "\n",
    "# Use Binarizer to apply binarization\n",
    "\n",
    "from sklearn.preprocessing import Binarizer\n",
    "binr = Binarizer(threshold=0.0, copy=False)\n",
    "scaled_df6 = binr.fit_transform(df6)\n",
    "scaled_df6 = pd.DataFrame(scaled_df6, columns = ['x1', 'x2', 'x3'])\n",
    "\n",
    "scaled_df6"
   ]
  },
  {
   "cell_type": "markdown",
   "id": "53ac09a0-11be-4aa7-8f4d-12dbf88d6939",
   "metadata": {
    "jp-MarkdownHeadingCollapsed": true
   },
   "source": [
    "## Sampling"
   ]
  },
  {
   "cell_type": "code",
   "execution_count": 16,
   "id": "8b0836f5-ea56-4be6-a8bb-e5c834942842",
   "metadata": {},
   "outputs": [
    {
     "data": {
      "text/html": [
       "<div>\n",
       "<style scoped>\n",
       "    .dataframe tbody tr th:only-of-type {\n",
       "        vertical-align: middle;\n",
       "    }\n",
       "\n",
       "    .dataframe tbody tr th {\n",
       "        vertical-align: top;\n",
       "    }\n",
       "\n",
       "    .dataframe thead th {\n",
       "        text-align: right;\n",
       "    }\n",
       "</style>\n",
       "<table border=\"1\" class=\"dataframe\">\n",
       "  <thead>\n",
       "    <tr style=\"text-align: right;\">\n",
       "      <th></th>\n",
       "      <th>x1</th>\n",
       "      <th>y1</th>\n",
       "      <th>z1</th>\n",
       "    </tr>\n",
       "  </thead>\n",
       "  <tbody>\n",
       "    <tr>\n",
       "      <th>946</th>\n",
       "      <td>-48.0</td>\n",
       "      <td>1.0</td>\n",
       "      <td>96.0</td>\n",
       "    </tr>\n",
       "    <tr>\n",
       "      <th>658</th>\n",
       "      <td>-25.0</td>\n",
       "      <td>45.0</td>\n",
       "      <td>-73.0</td>\n",
       "    </tr>\n",
       "    <tr>\n",
       "      <th>73</th>\n",
       "      <td>-18.0</td>\n",
       "      <td>10.0</td>\n",
       "      <td>-100.0</td>\n",
       "    </tr>\n",
       "    <tr>\n",
       "      <th>127</th>\n",
       "      <td>-94.0</td>\n",
       "      <td>-68.0</td>\n",
       "      <td>20.0</td>\n",
       "    </tr>\n",
       "    <tr>\n",
       "      <th>679</th>\n",
       "      <td>70.0</td>\n",
       "      <td>-57.0</td>\n",
       "      <td>72.0</td>\n",
       "    </tr>\n",
       "    <tr>\n",
       "      <th>...</th>\n",
       "      <td>...</td>\n",
       "      <td>...</td>\n",
       "      <td>...</td>\n",
       "    </tr>\n",
       "    <tr>\n",
       "      <th>325</th>\n",
       "      <td>-29.0</td>\n",
       "      <td>-53.0</td>\n",
       "      <td>-44.0</td>\n",
       "    </tr>\n",
       "    <tr>\n",
       "      <th>198</th>\n",
       "      <td>-90.0</td>\n",
       "      <td>44.0</td>\n",
       "      <td>123.0</td>\n",
       "    </tr>\n",
       "    <tr>\n",
       "      <th>88</th>\n",
       "      <td>-54.0</td>\n",
       "      <td>-38.0</td>\n",
       "      <td>125.0</td>\n",
       "    </tr>\n",
       "    <tr>\n",
       "      <th>224</th>\n",
       "      <td>44.0</td>\n",
       "      <td>41.0</td>\n",
       "      <td>46.0</td>\n",
       "    </tr>\n",
       "    <tr>\n",
       "      <th>738</th>\n",
       "      <td>50.0</td>\n",
       "      <td>-51.0</td>\n",
       "      <td>12.0</td>\n",
       "    </tr>\n",
       "  </tbody>\n",
       "</table>\n",
       "<p>100 rows × 3 columns</p>\n",
       "</div>"
      ],
      "text/plain": [
       "       x1    y1     z1\n",
       "946 -48.0   1.0   96.0\n",
       "658 -25.0  45.0  -73.0\n",
       "73  -18.0  10.0 -100.0\n",
       "127 -94.0 -68.0   20.0\n",
       "679  70.0 -57.0   72.0\n",
       "..    ...   ...    ...\n",
       "325 -29.0 -53.0  -44.0\n",
       "198 -90.0  44.0  123.0\n",
       "88  -54.0 -38.0  125.0\n",
       "224  44.0  41.0   46.0\n",
       "738  50.0 -51.0   12.0\n",
       "\n",
       "[100 rows x 3 columns]"
      ]
     },
     "execution_count": 16,
     "metadata": {},
     "output_type": "execute_result"
    }
   ],
   "source": [
    "data.sample(n=100)"
   ]
  },
  {
   "cell_type": "markdown",
   "id": "ee5058c8-8a30-4dc4-a8eb-4b2fd27bb955",
   "metadata": {
    "jp-MarkdownHeadingCollapsed": true
   },
   "source": [
    "## transformation"
   ]
  }
 ],
 "metadata": {
  "kernelspec": {
   "display_name": "Python 3 (ipykernel)",
   "language": "python",
   "name": "python3"
  },
  "language_info": {
   "codemirror_mode": {
    "name": "ipython",
    "version": 3
   },
   "file_extension": ".py",
   "mimetype": "text/x-python",
   "name": "python",
   "nbconvert_exporter": "python",
   "pygments_lexer": "ipython3",
   "version": "3.11.5"
  }
 },
 "nbformat": 4,
 "nbformat_minor": 5
}
